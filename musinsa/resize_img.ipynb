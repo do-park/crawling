{
 "cells": [
  {
   "cell_type": "code",
   "execution_count": null,
   "metadata": {},
   "outputs": [],
   "source": [
    "import cv2, sys\n",
    "import numpy as np\n",
    "import os"
   ]
  },
  {
   "cell_type": "code",
   "execution_count": null,
   "metadata": {},
   "outputs": [],
   "source": []
  },
  {
   "cell_type": "code",
   "execution_count": null,
   "metadata": {},
   "outputs": [],
   "source": [
    "file_path = 'C:/Users/multicampus/Desktop/delete_bg/acc_png'\n",
    "file_save = 'C:/Users/multicampus/Desktop/delete_bg/test'"
   ]
  },
  {
   "cell_type": "code",
   "execution_count": null,
   "metadata": {},
   "outputs": [],
   "source": [
    "for cloth in range(0, 151):\n",
    "    image = cv2.imread(os.path.join(file_path , str(cloth) + '.png'), cv2.IMREAD_UNCHANGED)\n",
    "    height, width, channel = image.shape\n",
    "    size = max(height, width)\n",
    "    resize_image = np.zeros((size, size, 4), np.uint8)\n",
    "    if height == size:\n",
    "        diff = (height // 2) - (width // 2)\n",
    "        for i in range(size):\n",
    "            for j in range(size):\n",
    "                if j > diff and j < diff + width:\n",
    "                    resize_image[i][j] = image[i][j - diff]\n",
    "    else:\n",
    "        diff = (width // 2) - (height // 2)\n",
    "        for i in range(size):\n",
    "            for j in range(size):\n",
    "                if i > diff and i < diff + height:\n",
    "                    resize_image[i][j] = image[i - diff][j]\n",
    "    cv2.imwrite(os.path.join(file_save , str(cloth) + '.png'), resize_image)"
   ]
  },
  {
   "cell_type": "code",
   "execution_count": null,
   "metadata": {},
   "outputs": [],
   "source": []
  },
  {
   "cell_type": "code",
   "execution_count": null,
   "metadata": {},
   "outputs": [],
   "source": []
  }
 ],
 "metadata": {
  "kernelspec": {
   "display_name": "Python 3",
   "language": "python",
   "name": "python3"
  },
  "language_info": {
   "codemirror_mode": {
    "name": "ipython",
    "version": 3
   },
   "file_extension": ".py",
   "mimetype": "text/x-python",
   "name": "python",
   "nbconvert_exporter": "python",
   "pygments_lexer": "ipython3",
   "version": "3.8.3"
  }
 },
 "nbformat": 4,
 "nbformat_minor": 4
}
