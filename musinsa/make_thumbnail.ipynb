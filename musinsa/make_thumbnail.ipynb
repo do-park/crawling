{
 "cells": [
  {
   "cell_type": "code",
   "execution_count": 13,
   "metadata": {},
   "outputs": [],
   "source": [
    "import cv2, sys\n",
    "import numpy as np\n",
    "import os\n",
    "\n",
    "\n",
    "file_path = 'C:/Users/multicampus/Desktop/s03p31d205/backend/hss/media/watch'\n",
    "out_path = 'C:/Users/multicampus/Desktop/delete_bg/yee/watch'\n",
    "\n",
    "\n",
    "for i in range(0, 51):\n",
    "\n",
    "    image = cv2.imread(os.path.join(file_path , str(i) + '.png'), cv2.IMREAD_UNCHANGED)\n",
    "    thumbnail = cv2.resize(image, dsize=(150, 150), interpolation=cv2.INTER_AREA)\n",
    "    cv2.imwrite(os.path.join(out_path, str(i) + '.png'), thumbnail)\n",
    "    "
   ]
  }
 ],
 "metadata": {
  "kernelspec": {
   "display_name": "Python 3",
   "language": "python",
   "name": "python3"
  },
  "language_info": {
   "codemirror_mode": {
    "name": "ipython",
    "version": 3
   },
   "file_extension": ".py",
   "mimetype": "text/x-python",
   "name": "python",
   "nbconvert_exporter": "python",
   "pygments_lexer": "ipython3",
   "version": "3.8.3"
  }
 },
 "nbformat": 4,
 "nbformat_minor": 4
}
