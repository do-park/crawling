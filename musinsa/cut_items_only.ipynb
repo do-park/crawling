{
 "cells": [
  {
   "cell_type": "code",
   "execution_count": null,
   "metadata": {},
   "outputs": [],
   "source": [
    "# https://youbidan.tistory.com/19"
   ]
  },
  {
   "cell_type": "code",
   "execution_count": 1,
   "metadata": {},
   "outputs": [],
   "source": [
    "import cv2, sys\n",
    "import numpy as np\n",
    "import os"
   ]
  },
  {
   "cell_type": "code",
   "execution_count": 16,
   "metadata": {},
   "outputs": [],
   "source": [
    "file_path = 'C:/Users/multicampus/Desktop/delete_bg/outer_png'\n",
    "file_save = 'C:/Users/multicampus/Desktop/delete_bg/test'"
   ]
  },
  {
   "cell_type": "code",
   "execution_count": 21,
   "metadata": {},
   "outputs": [],
   "source": [
    "for cloth in range(811, 1201):\n",
    "    image = cv2.imread(os.path.join(file_path , str(cloth) + '.png'), cv2.IMREAD_UNCHANGED)\n",
    "    image_gray = cv2.imread(os.path.join(file_path , str(cloth) + '.png'), cv2.IMREAD_GRAYSCALE)\n",
    "\n",
    "    blur = cv2.GaussianBlur(image_gray, ksize=(3,3), sigmaX=0)\n",
    "    ret, thresh1 = cv2.threshold(blur, 127, 255, cv2.THRESH_BINARY)\n",
    "    edged = cv2.Canny(blur, 10, 250)\n",
    "    \n",
    "    kernel = cv2.getStructuringElement(cv2.MORPH_RECT, (7,7))\n",
    "    closed = cv2.morphologyEx(edged, cv2.MORPH_CLOSE, kernel)\n",
    "    \n",
    "    contours, _ = cv2.findContours(closed.copy(),cv2.RETR_EXTERNAL, cv2.CHAIN_APPROX_SIMPLE)\n",
    "    total = 0\n",
    "\n",
    "    contours_xy = np.array(contours)\n",
    "    contours_xy.shape\n",
    "    \n",
    "    # x의 min과 max 찾기\n",
    "    x_min, x_max = 0,0\n",
    "    value = list()\n",
    "    for i in range(len(contours_xy)):\n",
    "        for j in range(len(contours_xy[i])):\n",
    "            value.append(contours_xy[i][j][0][0]) #네번째 괄호가 0일때 x의 값\n",
    "            x_min = min(value)\n",
    "            x_max = max(value)\n",
    "\n",
    "    # y의 min과 max 찾기\n",
    "    y_min, y_max = 0,0\n",
    "    value = list()\n",
    "    for i in range(len(contours_xy)):\n",
    "        for j in range(len(contours_xy[i])):\n",
    "            value.append(contours_xy[i][j][0][1]) #네번째 괄호가 0일때 x의 값\n",
    "            y_min = min(value)\n",
    "            y_max = max(value)\n",
    "\n",
    "    # image trim 하기\n",
    "    x = x_min\n",
    "    y = y_min\n",
    "    w = x_max-x_min\n",
    "    h = y_max-y_min\n",
    "    \n",
    "    img_trim = image[y:y+h, x:x+w]\n",
    "    \n",
    "    cv2.imwrite(os.path.join(file_save , str(cloth) + '.png'), img_trim)"
   ]
  },
  {
   "cell_type": "code",
   "execution_count": null,
   "metadata": {},
   "outputs": [],
   "source": []
  },
  {
   "cell_type": "code",
   "execution_count": null,
   "metadata": {},
   "outputs": [],
   "source": []
  },
  {
   "cell_type": "code",
   "execution_count": null,
   "metadata": {},
   "outputs": [],
   "source": []
  },
  {
   "cell_type": "code",
   "execution_count": null,
   "metadata": {},
   "outputs": [],
   "source": []
  },
  {
   "cell_type": "code",
   "execution_count": null,
   "metadata": {},
   "outputs": [],
   "source": []
  },
  {
   "cell_type": "code",
   "execution_count": null,
   "metadata": {},
   "outputs": [],
   "source": []
  },
  {
   "cell_type": "code",
   "execution_count": null,
   "metadata": {},
   "outputs": [],
   "source": []
  },
  {
   "cell_type": "code",
   "execution_count": null,
   "metadata": {},
   "outputs": [],
   "source": []
  },
  {
   "cell_type": "code",
   "execution_count": null,
   "metadata": {},
   "outputs": [],
   "source": []
  }
 ],
 "metadata": {
  "kernelspec": {
   "display_name": "Python 3",
   "language": "python",
   "name": "python3"
  },
  "language_info": {
   "codemirror_mode": {
    "name": "ipython",
    "version": 3
   },
   "file_extension": ".py",
   "mimetype": "text/x-python",
   "name": "python",
   "nbconvert_exporter": "python",
   "pygments_lexer": "ipython3",
   "version": "3.8.3"
  }
 },
 "nbformat": 4,
 "nbformat_minor": 4
}
