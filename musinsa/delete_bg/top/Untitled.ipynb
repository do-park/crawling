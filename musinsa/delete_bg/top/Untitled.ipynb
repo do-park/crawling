{
 "cells": [
  {
   "cell_type": "code",
   "execution_count": 2,
   "metadata": {},
   "outputs": [],
   "source": [
    "import cv2, sys\n",
    "import numpy as np\n",
    "import os\n",
    "\n",
    "\n",
    "in_path = 'C:/Users/multicampus/Desktop/delete_bg/top'\n",
    "out_path = 'C:/Users/multicampus/Desktop/delete_bg/top/png'\n",
    "\n",
    "for i in range(0, 801):\n",
    "\n",
    "    image = cv2.imread(str(i) + '.jpg', cv2.IMREAD_UNCHANGED)\n",
    "    image = cv2.cvtColor(image, cv2.COLOR_BGR2BGRA)\n",
    "    image_gray = cv2.imread(str(i) + '.jpg', cv2.IMREAD_GRAYSCALE)\n",
    "\n",
    "    blur = cv2.GaussianBlur(image_gray, ksize=(5,5), sigmaX=0)\n",
    "    ret, thresh1 = cv2.threshold(blur, 127, 255, cv2.THRESH_BINARY)\n",
    "\n",
    "    edged = cv2.Canny(blur, 10, 250)\n",
    "\n",
    "    kernel = cv2.getStructuringElement(cv2.MORPH_RECT, (7,7))\n",
    "    closed = cv2.morphologyEx(edged, cv2.MORPH_CLOSE, kernel)\n",
    "\n",
    "    contours, _ = cv2.findContours(closed.copy(),cv2.RETR_EXTERNAL, cv2.CHAIN_APPROX_SIMPLE)\n",
    "    total = 0\n",
    "\n",
    "    # 가장 큰 영역 찾기\n",
    "    max = 0\n",
    "    maxcnt = None\n",
    "    for cnt in contours :\n",
    "        area = cv2.contourArea(cnt)\n",
    "        if(max < area) :\n",
    "            max = area\n",
    "            maxcnt = cnt\n",
    "\n",
    "    mask = np.zeros(image.shape, image.dtype)\n",
    "\n",
    "    # 경계선 내부 255로 채우기\n",
    "#     cv2.fillPoly(mask, [maxcnt], (255,)*image.shape[2], )\n",
    "    cv2.fillPoly(mask, contours, (255,)*image.shape[2], )\n",
    "\n",
    "\n",
    "    masked_image = cv2.bitwise_and(image, mask)\n",
    "\n",
    "    new_img = cv2.bitwise_and(image, mask)\n",
    "\n",
    "#     cv2.imwrite(\"n\" + str(i) + '.png', new_img)\n",
    "    cv2.imwrite(os.path.join(out_path , str(i) + '.png'), new_img)"
   ]
  }
 ],
 "metadata": {
  "kernelspec": {
   "display_name": "Python 3",
   "language": "python",
   "name": "python3"
  },
  "language_info": {
   "codemirror_mode": {
    "name": "ipython",
    "version": 3
   },
   "file_extension": ".py",
   "mimetype": "text/x-python",
   "name": "python",
   "nbconvert_exporter": "python",
   "pygments_lexer": "ipython3",
   "version": "3.8.3"
  }
 },
 "nbformat": 4,
 "nbformat_minor": 4
}
